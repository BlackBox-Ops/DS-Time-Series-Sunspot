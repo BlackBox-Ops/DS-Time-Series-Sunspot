{
 "cells": [
  {
   "cell_type": "markdown",
   "metadata": {},
   "source": [
    "# **DS : Time Series Sunsplot**\n",
    "---\n",
    "## **Outcome Utama**\n",
    "\n",
    "1. **Pemahaman Pola Historis**\n",
    "   - Mengidentifikasi tren, musiman (seasonality), dan fluktuasi dalam data.\n",
    "   - Pola siklus tahunan/mingguan ditemukan dan menjadi dasar perencanaan bisnis.\n",
    "\n",
    "2. **Model Prediksi Akurat**\n",
    "   - Menggunakan model seperti **ARIMA**, **SARIMA**, atau **LSTM** untuk prediksi masa depan.\n",
    "   - Mengukur akurasi model dengan metrik seperti:\n",
    "     - **RMSE (Root Mean Squared Error)**\n",
    "     - **MAE (Mean Absolute Error)**\n",
    "     - **MAPE (Mean Absolute Percentage Error)**\n",
    "   - Model terbaik memberikan hasil prediksi dengan error rendah.\n",
    "\n",
    "3. **Deteksi Anomali**\n",
    "   - Mengidentifikasi outlier atau kejadian abnormal, seperti:\n",
    "     - Lonjakan mendadak dalam penjualan.\n",
    "     - Penurunan performa sistem secara tiba-tiba.\n",
    "   - Membantu mitigasi risiko dan respons cepat terhadap masalah.\n",
    "\n",
    "4. **Perencanaan dan Pengambilan Keputusan**\n",
    "   - Forecasting digunakan untuk mendukung pengambilan keputusan strategis, seperti:\n",
    "     - Pengelolaan inventaris.\n",
    "     - Alokasi sumber daya.\n",
    "     - Strategi pemasaran.\n",
    "   - Membantu organisasi mempersiapkan diri menghadapi musim puncak atau fluktuasi pasar.\n",
    "\n",
    "5. **Automasi dan Visualisasi**\n",
    "   - Membuat dashboard interaktif untuk monitoring data secara real-time.\n",
    "   - Automasi pipeline analisis untuk pembaruan model secara berkala.\n",
    "\n",
    "6. **Dampak Bisnis**\n",
    "   - **Efisiensi operasional** meningkat dengan prediksi yang lebih akurat.\n",
    "   - **Optimalisasi biaya dan sumber daya** berdasarkan data historis dan prediktif.\n",
    "   - Mengidentifikasi **peluang bisnis baru** berdasarkan wawasan tren masa depan.\n",
    "\n",
    "---\n",
    "\n",
    "### **Kesimpulan**\n",
    "Proyek data science berbasis time series memberikan wawasan berharga untuk memahami pola data historis dan memproyeksikan masa depan. Hal ini memungkinkan organisasi untuk mengambil keputusan berbasis data yang lebih strategis dan responsif terhadap perubahan.\n"
   ]
  },
  {
   "cell_type": "markdown",
   "metadata": {},
   "source": [
    "## **1.Data Wrangling**\n",
    "---\n",
    "pada tahap ini kita akan mencoba untuk melihat datasheet yang kita gunakan dalam project ini dan memeriksa proporsi dari jumlah kolom dan baris serta mengecek ada atau tidak adanya data yang hilang ataupun duplikat"
   ]
  },
  {
   "cell_type": "code",
   "execution_count": 8,
   "metadata": {},
   "outputs": [],
   "source": [
    "# import library yang dibutuhkan \n",
    "import numpy as np                  # Library untuk komputasi numerik dengan python \n",
    "import pandas as pd                 # Library untuk pengolahan dataframe dengan pandas \n",
    "import warnings                     # Library untuk handling error \n",
    "\n",
    "import matplotlib.pyplot as plt     # Library untuk visualisasi data dengan matplotlib \n",
    "import seaborn as sns               # Library untuk visualisasi data dengan seaborn \n",
    "\n",
    "from dateutil.parser import parse   # Libary untuk pengolahan dataframe time series \n",
    "\n",
    "# variabel untuk menghilangkan error dan visualisasi\n",
    "warnings.filterwarnings('ignore')\n",
    "dateparse=lambda dates:parse(dates)\n",
    "%matplotlib inline"
   ]
  },
  {
   "cell_type": "markdown",
   "metadata": {},
   "source": [
    "### **1.1 Load datasheet**\n",
    "---\n",
    "pada bagian ini kita akan melakukan file import datasheet yang akan kita analisis ke pandas "
   ]
  },
  {
   "cell_type": "code",
   "execution_count": 9,
   "metadata": {},
   "outputs": [
    {
     "data": {
      "text/html": [
       "<div>\n",
       "<style scoped>\n",
       "    .dataframe tbody tr th:only-of-type {\n",
       "        vertical-align: middle;\n",
       "    }\n",
       "\n",
       "    .dataframe tbody tr th {\n",
       "        vertical-align: top;\n",
       "    }\n",
       "\n",
       "    .dataframe thead th {\n",
       "        text-align: right;\n",
       "    }\n",
       "</style>\n",
       "<table border=\"1\" class=\"dataframe\">\n",
       "  <thead>\n",
       "    <tr style=\"text-align: right;\">\n",
       "      <th></th>\n",
       "      <th>Unnamed: 0</th>\n",
       "      <th>Date</th>\n",
       "      <th>Monthly Mean Total Sunspot Number</th>\n",
       "    </tr>\n",
       "  </thead>\n",
       "  <tbody>\n",
       "    <tr>\n",
       "      <th>0</th>\n",
       "      <td>0</td>\n",
       "      <td>1749-01-31</td>\n",
       "      <td>96.7</td>\n",
       "    </tr>\n",
       "    <tr>\n",
       "      <th>1</th>\n",
       "      <td>1</td>\n",
       "      <td>1749-02-28</td>\n",
       "      <td>104.3</td>\n",
       "    </tr>\n",
       "    <tr>\n",
       "      <th>2</th>\n",
       "      <td>2</td>\n",
       "      <td>1749-03-31</td>\n",
       "      <td>116.7</td>\n",
       "    </tr>\n",
       "    <tr>\n",
       "      <th>3</th>\n",
       "      <td>3</td>\n",
       "      <td>1749-04-30</td>\n",
       "      <td>92.8</td>\n",
       "    </tr>\n",
       "    <tr>\n",
       "      <th>4</th>\n",
       "      <td>4</td>\n",
       "      <td>1749-05-31</td>\n",
       "      <td>141.7</td>\n",
       "    </tr>\n",
       "  </tbody>\n",
       "</table>\n",
       "</div>"
      ],
      "text/plain": [
       "   Unnamed: 0       Date  Monthly Mean Total Sunspot Number\n",
       "0           0 1749-01-31                               96.7\n",
       "1           1 1749-02-28                              104.3\n",
       "2           2 1749-03-31                              116.7\n",
       "3           3 1749-04-30                               92.8\n",
       "4           4 1749-05-31                              141.7"
      ]
     },
     "execution_count": 9,
     "metadata": {},
     "output_type": "execute_result"
    }
   ],
   "source": [
    "# load file csv datasheet ke pandas \n",
    "df = pd.read_csv('../data/raw/Sunspots.csv', parse_dates=['Date'], date_parser=dateparse)\n",
    "\n",
    "# kemudian tampilkan 5 datasheet teratas \n",
    "df.head()"
   ]
  },
  {
   "cell_type": "markdown",
   "metadata": {},
   "source": [
    "<b>Insight :</b>\n",
    "<p>dari hasil berikut diketahui bahwa kita memiliki fitur data dalam bentuk rentang waktu dan total jumlah mean sunspot number, \n",
    "kita akan menggunakan 2 fitur tersebut dan menghapus fitur unnamed karena kita tidak memerlukan fitur kolom tersebut dalam analisis kita</p>"
   ]
  },
  {
   "cell_type": "markdown",
   "metadata": {},
   "source": [
    "### **1.2 Menghapus kolom unnamed**\n",
    "---\n",
    "kita akan menghapus kolom unnamed karena kita tidak memerlukan kolom ini dalam analisis kita "
   ]
  },
  {
   "cell_type": "code",
   "execution_count": 10,
   "metadata": {},
   "outputs": [
    {
     "data": {
      "text/html": [
       "<div>\n",
       "<style scoped>\n",
       "    .dataframe tbody tr th:only-of-type {\n",
       "        vertical-align: middle;\n",
       "    }\n",
       "\n",
       "    .dataframe tbody tr th {\n",
       "        vertical-align: top;\n",
       "    }\n",
       "\n",
       "    .dataframe thead th {\n",
       "        text-align: right;\n",
       "    }\n",
       "</style>\n",
       "<table border=\"1\" class=\"dataframe\">\n",
       "  <thead>\n",
       "    <tr style=\"text-align: right;\">\n",
       "      <th></th>\n",
       "      <th>Date</th>\n",
       "      <th>Monthly Mean Total Sunspot Number</th>\n",
       "    </tr>\n",
       "  </thead>\n",
       "  <tbody>\n",
       "    <tr>\n",
       "      <th>0</th>\n",
       "      <td>1749-01-31</td>\n",
       "      <td>96.7</td>\n",
       "    </tr>\n",
       "    <tr>\n",
       "      <th>1</th>\n",
       "      <td>1749-02-28</td>\n",
       "      <td>104.3</td>\n",
       "    </tr>\n",
       "    <tr>\n",
       "      <th>2</th>\n",
       "      <td>1749-03-31</td>\n",
       "      <td>116.7</td>\n",
       "    </tr>\n",
       "    <tr>\n",
       "      <th>3</th>\n",
       "      <td>1749-04-30</td>\n",
       "      <td>92.8</td>\n",
       "    </tr>\n",
       "    <tr>\n",
       "      <th>4</th>\n",
       "      <td>1749-05-31</td>\n",
       "      <td>141.7</td>\n",
       "    </tr>\n",
       "  </tbody>\n",
       "</table>\n",
       "</div>"
      ],
      "text/plain": [
       "        Date  Monthly Mean Total Sunspot Number\n",
       "0 1749-01-31                               96.7\n",
       "1 1749-02-28                              104.3\n",
       "2 1749-03-31                              116.7\n",
       "3 1749-04-30                               92.8\n",
       "4 1749-05-31                              141.7"
      ]
     },
     "execution_count": 10,
     "metadata": {},
     "output_type": "execute_result"
    }
   ],
   "source": [
    "df = df.drop(columns='Unnamed: 0', axis=True)\n",
    "df.head()"
   ]
  },
  {
   "cell_type": "markdown",
   "metadata": {},
   "source": [
    "<b>Insight :</b>\n",
    "<p>Setelah kita menghapus kolom unnamed: kita akan melakukan melakukan EDA</p>"
   ]
  },
  {
   "cell_type": "markdown",
   "metadata": {},
   "source": [
    "### **1.3 Melihat Informasi dari datasheet**\n",
    "---\n",
    "selanjutnya kita akan melihat informasi dari datasheet yang kita punya"
   ]
  },
  {
   "cell_type": "code",
   "execution_count": 11,
   "metadata": {},
   "outputs": [
    {
     "name": "stdout",
     "output_type": "stream",
     "text": [
      "<class 'pandas.core.frame.DataFrame'>\n",
      "RangeIndex: 3252 entries, 0 to 3251\n",
      "Data columns (total 2 columns):\n",
      " #   Column                             Non-Null Count  Dtype         \n",
      "---  ------                             --------------  -----         \n",
      " 0   Date                               3252 non-null   datetime64[ns]\n",
      " 1   Monthly Mean Total Sunspot Number  3252 non-null   float64       \n",
      "dtypes: datetime64[ns](1), float64(1)\n",
      "memory usage: 50.9 KB\n"
     ]
    }
   ],
   "source": [
    "# melihat informasi dari datasheet yang kita punya \n",
    "df.info()"
   ]
  },
  {
   "cell_type": "markdown",
   "metadata": {},
   "source": [
    "<b>Insight :</b>\n",
    "<p> disini kita bisa tau bahwa pada kolom fitur date sudah memiliki tipe data datetime64 hal ini bisa terjadi karena diawal kita sudah menambahkan library dateparser untuk kolom fitur date</p> "
   ]
  },
  {
   "cell_type": "markdown",
   "metadata": {},
   "source": [
    "### **1.3 Melihat jumlah proporsi dari setiap fitur datasheet**\n",
    "---\n",
    "<p>pada tahap ini kita ingin melihat jumlah baris dan kolom dari datasheet yang kita punya</p>"
   ]
  },
  {
   "cell_type": "code",
   "execution_count": 12,
   "metadata": {},
   "outputs": [
    {
     "name": "stdout",
     "output_type": "stream",
     "text": [
      "jumlah baris pada datasheet adalah : 3252 baris\n",
      "jumlah kolom pada datasheet adalah : 2 kolom\n"
     ]
    }
   ],
   "source": [
    "# melihat proporsi jumlah kolom dan baris dari datasheet yang kita punya \n",
    "print(f'jumlah baris pada datasheet adalah : {df.shape[0]} baris') # cek jumlah baris pada datasheet \n",
    "print(f'jumlah kolom pada datasheet adalah : {df.shape[1]} kolom') # cek jumlah kolom pada datasheet "
   ]
  },
  {
   "cell_type": "markdown",
   "metadata": {},
   "source": [
    "<b>Insight :</b>\n",
    "<p>dari hasil analisis tersebut dapat diketahui bahwa kita memiliki jumlah baris sebanyak 3252 baris dan 2 kolom data</p>"
   ]
  }
 ],
 "metadata": {
  "kernelspec": {
   "display_name": "Python 3",
   "language": "python",
   "name": "python3"
  },
  "language_info": {
   "codemirror_mode": {
    "name": "ipython",
    "version": 3
   },
   "file_extension": ".py",
   "mimetype": "text/x-python",
   "name": "python",
   "nbconvert_exporter": "python",
   "pygments_lexer": "ipython3",
   "version": "3.12.5"
  }
 },
 "nbformat": 4,
 "nbformat_minor": 2
}

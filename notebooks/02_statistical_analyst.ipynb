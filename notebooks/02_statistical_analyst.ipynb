{
 "cells": [
  {
   "cell_type": "markdown",
   "metadata": {},
   "source": [
    "# **Statistical Analyst Time Series Using Sunspot Data**\n",
    "---\n",
    "pada tahap ini kita akan melakukan preprocesing data lebih lanjut dengan menggunakan statistical analyst "
   ]
  },
  {
   "cell_type": "markdown",
   "metadata": {},
   "source": [
    "## **1.Statistical Analyst Using Sunspot Data**"
   ]
  },
  {
   "cell_type": "markdown",
   "metadata": {},
   "source": [
    "### **1.1 Import Library**\n",
    "---\n",
    "pertama kita akan melakukan import library yang dibutuhkan untuk proses analisis statistik pada data sunspot"
   ]
  },
  {
   "cell_type": "code",
   "execution_count": null,
   "metadata": {},
   "outputs": [],
   "source": [
    "# import library yang dibutuhkan \n",
    "import numpy as np                              # import library untuk komputasi numerik \n",
    "import pandas as pd                             # import library untuk pengolahan datafrane \n",
    "import matplotlib.pyplot as plt                 # import library untuk visualisasi data dengan matplotlib \n",
    "import seaborn as sns                           # import library untuk visualisasi data dengan seaborn \n",
    "\n",
    "from warnings import simplefilter               # import library untuk handling error \n",
    "from scipy import stats\n",
    "from statsmodels.tsa.arima_model import ARIMA   # import library untuk pengolahan statistik dengan model ARIMA (Autoregresive moving average)\n",
    "from statsmodels.graphics.api import qqplot     # import library untuk pengolahan statistik dalam bentuk visualisasi data\n",
    "\n",
    "# definisikan variabel untuk memfilter error yang ada \n",
    "simplefilter('ignore')"
   ]
  }
 ],
 "metadata": {
  "kernelspec": {
   "display_name": "Python 3",
   "language": "python",
   "name": "python3"
  },
  "language_info": {
   "codemirror_mode": {
    "name": "ipython",
    "version": 3
   },
   "file_extension": ".py",
   "mimetype": "text/x-python",
   "name": "python",
   "nbconvert_exporter": "python",
   "pygments_lexer": "ipython3",
   "version": "3.12.5"
  }
 },
 "nbformat": 4,
 "nbformat_minor": 2
}

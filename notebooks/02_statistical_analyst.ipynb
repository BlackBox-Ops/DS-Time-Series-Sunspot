{
 "cells": [
  {
   "cell_type": "markdown",
   "metadata": {},
   "source": [
    "# **Statistical Analyst Time Series Using Sunspot Data**\n",
    "---\n",
    "pada tahap ini kita akan melakukan preprocesing data lebih lanjut dengan menggunakan statistical analyst "
   ]
  },
  {
   "cell_type": "markdown",
   "metadata": {},
   "source": [
    "## **1.Statistical Analyst Using Sunspot Data**"
   ]
  },
  {
   "cell_type": "markdown",
   "metadata": {},
   "source": [
    "### **1.1 Import Library**\n",
    "---\n",
    "pertama kita akan melakukan import library yang dibutuhkan untuk proses analisis statistik pada data sunspot"
   ]
  },
  {
   "cell_type": "code",
   "execution_count": null,
   "metadata": {},
   "outputs": [],
   "source": [
    "# import library yang dibutuhkan \n",
    "import numpy as np                              # import library untuk komputasi numerik \n",
    "import pandas as pd                             # import library untuk pengolahan datafrane \n",
    "import matplotlib.pyplot as plt                 # import library untuk visualisasi data dengan matplotlib \n",
    "import seaborn as sns                           # import library untuk visualisasi data dengan seaborn \n",
    "import os                                       # import library os untuk \n",
    "\n",
    "from warnings import simplefilter               # import library untuk handling error \n",
    "from scipy import stats\n",
    "from statsmodels.tsa.arima_model import ARIMA   # import library untuk pengolahan statistik dengan model ARIMA (Autoregresive moving average)\n",
    "from statsmodels.graphics.api import qqplot     # import library untuk pengolahan statistik dalam bentuk visualisasi data\n",
    "\n",
    "# definisikan variabel untuk memfilter error yang ada \n",
    "simplefilter('ignore')"
   ]
  },
  {
   "cell_type": "markdown",
   "metadata": {},
   "source": [
    "### **1.2 Load File CSV dengan library OS dan membaca file tersebut dengan pandas**\n",
    "---\n",
    "pada tahap ini kita akan melakukan load file yang sudah diolah sebelum nya pada kode exploration.ipynb dan menggunakan file tersebut untuk analisis lebih lanjut "
   ]
  },
  {
   "cell_type": "code",
   "execution_count": 16,
   "metadata": {},
   "outputs": [
    {
     "name": "stdout",
     "output_type": "stream",
     "text": [
      "File ditemukan: ../data/processed\\processed_file.csv\n",
      "         Date  Monthly Mean Total Sunspot Number  Month  nth_year\n",
      "0  1749-01-31                               96.7      1         9\n",
      "1  1749-02-28                              104.3      2         9\n",
      "2  1749-03-31                              116.7      3         9\n",
      "3  1749-04-30                               92.8      4         9\n",
      "4  1749-05-31                              141.7      5         9\n"
     ]
    }
   ],
   "source": [
    "# Path ke folder\n",
    "folder_path = \"../data/processed\"\n",
    "\n",
    "# Menelusuri semua file di folder dan subfolder\n",
    "for root, dirs, files in os.walk(folder_path):\n",
    "    for file in files:\n",
    "        if file.endswith(\".csv\"):  # Menemukan file CSV\n",
    "            file_path = os.path.join(root, file)\n",
    "            print(f\"File ditemukan: {file_path}\")\n",
    "            \n",
    "            # Membaca file ke pandas\n",
    "            df = pd.read_csv(file_path)\n",
    "            \n",
    "            # Menampilkan 5 baris pertama\n",
    "            print(df.head())\n"
   ]
  }
 ],
 "metadata": {
  "kernelspec": {
   "display_name": "Python 3",
   "language": "python",
   "name": "python3"
  },
  "language_info": {
   "codemirror_mode": {
    "name": "ipython",
    "version": 3
   },
   "file_extension": ".py",
   "mimetype": "text/x-python",
   "name": "python",
   "nbconvert_exporter": "python",
   "pygments_lexer": "ipython3",
   "version": "3.12.5"
  }
 },
 "nbformat": 4,
 "nbformat_minor": 2
}
